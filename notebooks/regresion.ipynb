{
 "cells": [
  {
   "attachments": {},
   "cell_type": "markdown",
   "metadata": {},
   "source": [
    "# Modelos de regresión lineal \n",
    "Se han desarrollado modelos de regresión lineal para establecer relaciones entre diferentes variables del catálogo. Esto permite que al ejecutar la app de streamlit, en la sección de Machine Learning/Clasificación estelar, solo se necesite ajustar tres parámetros estelares: el índice de color `B-V`, la magnitud visual `Vmag` y la distancia a la que se encuentra la estrella `d`. De esta manera, el resto de los parámetros se ajustan automáticamente en función de estos tres."
   ]
  },
  {
   "attachments": {},
   "cell_type": "markdown",
   "metadata": {},
   "source": [
    "# Regresión lineal entre *B-I* y *V-I*"
   ]
  },
  {
   "cell_type": "code",
   "execution_count": 4,
   "metadata": {},
   "outputs": [
    {
     "name": "stdout",
     "output_type": "stream",
     "text": [
      "[1.05952765]\n",
      "0.012017047404006442\n",
      "y = 1.0595276528507622x + 0.012017047404006442\n"
     ]
    }
   ],
   "source": [
    "import pandas as pd\n",
    "from sklearn.linear_model import LinearRegression\n",
    "\n",
    "# Carga los datos\n",
    "df = pd.read_csv('../data/selected_data.csv', index_col=0)\n",
    "\n",
    "# Selecciona las columnas 'B-V' y 'V-I'\n",
    "X = df[['B-V']]\n",
    "y = df['V-I']\n",
    "\n",
    "# Crea el modelo de regresión lineal\n",
    "model = LinearRegression()\n",
    "\n",
    "# Ajusta el modelo a los datos\n",
    "model.fit(X, y)\n",
    "\n",
    "# Imprime los coeficientes\n",
    "print(model.coef_)\n",
    "print(model.intercept_)\n",
    "print('y = {}x + {}'.format(model.coef_[0], model.intercept_))\n"
   ]
  },
  {
   "attachments": {},
   "cell_type": "markdown",
   "metadata": {},
   "source": [
    "# Regresión lineal entre *V-I* y *(V-I)red*"
   ]
  },
  {
   "cell_type": "code",
   "execution_count": 5,
   "metadata": {},
   "outputs": [
    {
     "name": "stdout",
     "output_type": "stream",
     "text": [
      "[1.00241703]\n",
      "-0.007241748440008133\n",
      "y = 1.002417030602209x + -0.007241748440008133\n"
     ]
    }
   ],
   "source": [
    "X = df[['V-I']]\n",
    "y = df['(V-I)red']\n",
    "\n",
    "# Crea el modelo de regresión lineal\n",
    "model = LinearRegression()\n",
    "\n",
    "# Ajusta el modelo a los datos\n",
    "model.fit(X, y)\n",
    "\n",
    "# Imprime los coeficientes\n",
    "print(model.coef_)\n",
    "print(model.intercept_)\n",
    "print('y = {}x + {}'.format(model.coef_[0], model.intercept_))"
   ]
  },
  {
   "attachments": {},
   "cell_type": "markdown",
   "metadata": {},
   "source": [
    "# Regresión lineal entre *Vmag* y *BTmag*"
   ]
  },
  {
   "cell_type": "code",
   "execution_count": null,
   "metadata": {},
   "outputs": [
    {
     "name": "stdout",
     "output_type": "stream",
     "text": [
      "[0.88114741]\n",
      "1.7885793809817292\n",
      "y = 0.8811474078932823x + 1.7885793809817292\n"
     ]
    }
   ],
   "source": [
    "X = df[['Vmag']]\n",
    "y = df['BTmag']\n",
    "\n",
    "# Crea el modelo de regresión lineal\n",
    "model = LinearRegression()\n",
    "\n",
    "# Ajusta el modelo a los datos\n",
    "model.fit(X, y)\n",
    "\n",
    "# Imprime los coeficientes\n",
    "print(model.coef_)\n",
    "print(model.intercept_)\n",
    "print('y = {}x + {}'.format(model.coef_[0], model.intercept_))"
   ]
  },
  {
   "attachments": {},
   "cell_type": "markdown",
   "metadata": {},
   "source": [
    "# Regresión lineal entre *Vmag* y *VTmag*"
   ]
  },
  {
   "cell_type": "code",
   "execution_count": 8,
   "metadata": {},
   "outputs": [
    {
     "name": "stdout",
     "output_type": "stream",
     "text": [
      "[0.85885253]\n",
      "1.1808804812063105\n",
      "y = 0.8588525259279173x + 1.1808804812063105\n"
     ]
    }
   ],
   "source": [
    "X = df[['Vmag']]\n",
    "y = df['VTmag']\n",
    "\n",
    "# Crea el modelo de regresión lineal\n",
    "model = LinearRegression()\n",
    "\n",
    "# Ajusta el modelo a los datos\n",
    "model.fit(X, y)\n",
    "\n",
    "# Imprime los coeficientes\n",
    "print(model.coef_)\n",
    "print(model.intercept_)\n",
    "print('y = {}x + {}'.format(model.coef_[0], model.intercept_))"
   ]
  },
  {
   "attachments": {},
   "cell_type": "markdown",
   "metadata": {},
   "source": [
    "# Regresión lineal entre *Vmag* y *Hpmag*"
   ]
  },
  {
   "cell_type": "code",
   "execution_count": 9,
   "metadata": {},
   "outputs": [
    {
     "name": "stdout",
     "output_type": "stream",
     "text": [
      "[1.00564631]\n",
      "0.05840408415647502\n",
      "y = 1.0056463080637945x + 0.05840408415647502\n"
     ]
    }
   ],
   "source": [
    "X = df[['Vmag']]\n",
    "y = df['Hpmag']\n",
    "\n",
    "# Crea el modelo de regresión lineal\n",
    "model = LinearRegression()\n",
    "\n",
    "# Ajusta el modelo a los datos\n",
    "model.fit(X, y)\n",
    "\n",
    "# Imprime los coeficientes\n",
    "print(model.coef_)\n",
    "print(model.intercept_)\n",
    "print('y = {}x + {}'.format(model.coef_[0], model.intercept_))"
   ]
  },
  {
   "cell_type": "code",
   "execution_count": null,
   "metadata": {},
   "outputs": [],
   "source": []
  }
 ],
 "metadata": {
  "kernelspec": {
   "display_name": "myenv",
   "language": "python",
   "name": "python3"
  },
  "language_info": {
   "codemirror_mode": {
    "name": "ipython",
    "version": 3
   },
   "file_extension": ".py",
   "mimetype": "text/x-python",
   "name": "python",
   "nbconvert_exporter": "python",
   "pygments_lexer": "ipython3",
   "version": "3.10.10"
  },
  "orig_nbformat": 4
 },
 "nbformat": 4,
 "nbformat_minor": 2
}
