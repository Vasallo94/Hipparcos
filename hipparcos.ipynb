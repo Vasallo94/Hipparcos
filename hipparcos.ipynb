{
 "cells": [
  {
   "cell_type": "markdown",
   "metadata": {},
   "source": [
    "**Table of contents**<a id='toc0_'></a>    \n",
    "1. [Análisis de datos del catálogo astronómico estelar Hipparcos](#toc1_)    \n",
    "1.1. [Información sobre la misión Hipparcos](#toc1_1_)    \n",
    "1.2. [Origen del dataset e información del catálogo      ](#toc1_2_)    \n",
    "1.3. [Importación de librerías y primer vistazo al dataset](#toc1_3_)    \n",
    "1.4. [Preprocesamiento](#toc1_4_)    \n",
    "2. [Estudio astronómico de los datos](#toc2_)    \n",
    "2.1. [Distancias en astronomía](#toc2_1_)    \n",
    "2.1.1. [Prueba de coordenadas galácticas](#toc2_1_1_)    \n",
    "2.2. [Movimientos propios de las estrellas](#toc2_2_)    \n",
    "2.3. [Tipos espectrales de estrellas](#toc2_3_)    \n",
    "2.3.1. [Clases espectrales](#toc2_3_1_)    \n",
    "2.4. [La magnitud en astronomía y astrofísica](#toc2_4_)    \n",
    "2.4.1. [Magnitud visual aparente: Estrellas visibles y algunas constelaciones conocidas](#toc2_4_1_)    \n",
    "2.5. [Estrellas variables](#toc2_5_)    \n",
    "2.6. [El diagrama de Hertzsprung-Russell](#toc2_6_)    \n",
    "\n",
    "<!-- vscode-jupyter-toc-config\n",
    "\tnumbering=true\n",
    "\tanchor=true\n",
    "\tflat=true\n",
    "\tminLevel=1\n",
    "\tmaxLevel=6\n",
    "\t/vscode-jupyter-toc-config -->\n",
    "<!-- THIS CELL WILL BE REPLACED ON TOC UPDATE. DO NOT WRITE YOUR TEXT IN THIS CELL -->"
   ]
  },
  {
   "attachments": {},
   "cell_type": "markdown",
   "metadata": {},
   "source": [
    "# 1. <a id='toc1_'></a>[Análisis de datos del catálogo astronómico estelar Hipparcos: una aproximación a la astrofísica estelar](#toc0_)"
   ]
  },
  {
   "cell_type": "markdown",
   "metadata": {},
   "source": [
    "## 1.1. <a id='toc1_1_'></a>[Información sobre la misión Hipparcos](#toc0_)\n",
    "La misión [Hipparcos](https://www.cosmos.esa.int/web/hipparcos) fue una misión espacial de la Agencia Espacial Europea (ESA) lanzada en 1989 con el objetivo de medir con precisión las posiciones, distancias y movimientos de más de un millón de estrellas en nuestra galaxia, la Vía Láctea.\n",
    "\n",
    "Durante su misión, el satélite Hipparcos utilizó un telescopio especializado para medir la posición de las estrellas con una precisión nunca antes alcanzad (ahora ampliamente superada por la misión Gaia, que espero poder analizar posteriormente a este trabajo en algún momento). Además, utilizó técnicas de paralaje para medir la distancia de las estrellas a la Tierra, lo que permitió construir un mapa tridimensional de la galaxia.\n",
    "\n",
    "El resultado de la misión fue la creación del Catálogo Hipparcos, que contiene información detallada sobre la posición, el movimiento y la distancia de más de 100,000 estrellas con una precisión sin precedentes. El catálogo también incluye información sobre la luminosidad y la temperatura de las estrellas, lo que permite a los astrónomos estudiar la evolución y la estructura de nuestra galaxia.\n",
    "\n",
    "El Catálogo Hipparcos ha sido ampliamente utilizado por la comunidad científica en una variedad de campos, desde la astrofísica hasta la cosmología, y ha sido fundamental para nuestra comprensión del universo y nuestro lugar en él."
   ]
  },
  {
   "attachments": {},
   "cell_type": "markdown",
   "metadata": {},
   "source": [
    "Advertencia: Es importante destacar que los resultados presentados en este trabajo no pueden ser considerados científicos, ya que el Catálogo Hipparcos requiere de una exhaustiva corrección previa de numerosos factores astronómicos, de coordenadas y estimaciones físicas que en este trabajo no se abordarán debido a limitaciones de tiempo y conocimiento. Estas correcciones son necesarias para garantizar la precisión y fiabilidad de los datos, por lo que su realización es una tarea pendiente para futuros estudios sobre este tema. "
   ]
  },
  {
   "cell_type": "markdown",
   "metadata": {},
   "source": [
    "## 1.2. <a id='toc1_2_'></a>Origen del [dataset](https://www.kaggle.com/datasets/konivat/hipparcos-star-catalog) e información del catálogo       [&#8593;](#toc0_)"
   ]
  },
  {
   "attachments": {},
   "cell_type": "markdown",
   "metadata": {},
   "source": [
    "Información de las columnas del catálogo\n",
    "\n",
    "0. `Catalog` ( Catalog_Name ) - Catalogue (H=Hipparcos) \n",
    "1. `HIP` ( HIP_Number ) - Identifier (HIP number) \n",
    "2. `Proxy` ( Prox_10asec ) - Proximity flag \n",
    "3. `RAhms` ( RA ) - RA in h m s, ICRS (J1991.25) \n",
    "4. `DEdms` ( Dec ) - Dec in deg ' \", ICRS (J1991.25) \n",
    "5. `Vmag` ( Vmag ) - Magnitude in Johnson V \n",
    "6. `VarFlag` ( Var_Flag ) - Coarse variability flag \n",
    "7. `r_Vmag` ( Vmag_Source ) - Source of magnitude \n",
    "8. `RAdeg` ( RA_Deg ) - RA in degrees (ICRS, Epoch-J1991.25) \n",
    "9. `DEdeg` ( Dec_Deg ) - Dec in degrees (ICRS, Epoch-J1991.25) \n",
    "10. `AstroRef` ( Astrom_Ref_Dbl ) - Reference flag for astrometry \n",
    "11. `Plx` ( Parallax ) - Trigonometric parallax \n",
    "12. `pmRA` ( pm_RA ) - Proper motion in RA \n",
    "13. `pmDE` ( pm_Dec ) - Proper motion in Dec \n",
    "14. `e_RAdeg` ( RA_Error ) - Standard error in RA*cos(Dec_Deg) \n",
    "15. `e_DEdeg` ( Dec_Error ) - Standard error in Dec_Deg \n",
    "16. `e_Plx` ( Parallax_Error ) - Standard error in Parallax \n",
    "17. `e_pmRA` ( pm_RA_Error ) - Standard error in pmRA \n",
    "18. `e_pmDE` ( pm_Dec_Error ) - Standard error in pmDE \n",
    "19. `DE:RA` ( Crl_Dec_RA ) - (DE over RA)xCos(delta) \n",
    "20. `Plx:RA` ( Crl_Plx_RA ) - (Plx over RA)xCos(delta) \n",
    "21. `Plx:DE` ( Crl_Plx_Dec ) - (Plx over DE) \n",
    "22. `pmRA:RA` ( Crl_pmRA_RA ) - (pmRA over RA)xCos(delta) \n",
    "23. `pmRA:DE` ( Crl_pmRA_Dec ) - (pmRA over DE) \n",
    "24. `pmRA:Plx` ( Crl_pmRA_Plx ) - (pmRA over Plx) \n",
    "25. `pmDE:RA` ( Crl_pmDec_RA ) - (pmDE over RA)xCos(delta) \n",
    "26. `pmDE:DE` ( Crl_pmDec_Dec ) - (pmDE over DE) \n",
    "27. `pmDE:Plx` ( Crl_pmDec_Plx ) - (pmDE over Plx) \n",
    "28. `pmDE:pmRA` ( Crl_pmDec_pmRA ) - (pmDE over pmRA) \n",
    "29. `F1` ( Reject_Percent ) - Percentage of rejected data \n",
    "30. `F2` ( Quality_Fit ) - Goodness-of-fit parameter \n",
    "31. `---` ( HIP_Number_repeat ) - HIP number (repetition) \n",
    "32. `BTmag` ( BT_Mag ) - Mean BT magnitude \n",
    "33. `e_BTmag` ( BT_Mag_Error ) - Standard error on BTmag \n",
    "34. `VTmag` ( VT_Mag ) - Mean VT magnitude \n",
    "35. `e_VTmag` ( VT_Mag_Error ) - Standard error on VTmag \n",
    "36. `m_BTmag` ( BT_Mag_Ref_Dbl ) - Reference flag for BT and VTmag \n",
    "37. `B-V` ( BV_Color ) - Johnson BV colour \n",
    "38. `e_B-V` ( BV_Color_Error ) - Standard error on BV \n",
    "39. `r_B-V` ( BV_Mag_Source ) - Source of BV from Ground or Tycho \n",
    "40. `V-I` ( VI_Color ) - Colour index in Cousins' system \n",
    "41. `e_V-I` ( VI_Color_Error ) - Standard error on VI \n",
    "42. `r_V-I` ( VI_Color_Source ) - Source of VI \n",
    "43. `CombMag` ( Mag_Ref_Dbl ) - Flag for combined Vmag, BV, VI \n",
    "44. `Hpmag` ( Hip_Mag ) - Median magnitude in Hipparcos system \n",
    "45. `e_Hpmag` ( Hip_Mag_Error ) - Standard error on Hpmag \n",
    "46. `Hpscat` ( Scat_Hip_Mag ) - Scatter of Hpmag \n",
    "47. `o_Hpmag` ( N_Obs_Hip_Mag ) - Number of observations for Hpmag \n",
    "48. `m_Hpmag` ( Hip_Mag_Ref_Dbl ) - Reference flag for Hpmag \n",
    "49. `Hpmax` ( Hip_Mag_Max ) - Hpmag at maximum (5th percentile) \n",
    "50. `HPmin` ( Hip_Mag_Min ) - Hpmag at minimum (95th percentile) \n",
    "51. `Period` ( Var_Period ) - Variability period (days) \n",
    "52. `HvarType` ( Hip_Var_Type ) - Variability type \n",
    "53. `moreVar` ( Var_Data_Annex ) - Additional data about variability \n",
    "54. `morePhoto` ( Var_Curv_Annex ) - Light curve Annex \n",
    "55. `CCDM` ( CCDM_Id ) - CCDM identifier \n",
    "56. `n_CCDM` ( CCDM_History ) - Historical status flag \n",
    "57. `Nsys` ( CCDM_N_Entries ) - Number of entries with same CCDM \n",
    "58. `Ncomp` ( CCDM_N_Comp ) - Number of components in this entry \n",
    "59. `MultFlag` ( Dbl_Mult_Annex ) - Double and or Multiple Systems flag \n",
    "60. `Source` ( Astrom_Mult_Source ) - Astrometric source flag \n",
    "61. `Qual` ( Dbl_Soln_Qual ) - Solution quality flag \n",
    "62. `m_HIP` ( Dbl_Ref_ID ) - Component identifiers \n",
    "63. `theta` ( Dbl_Theta ) - Position angle between components \n",
    "64. `rho` ( Dbl_Rho ) - Angular separation of components \n",
    "65. `e_rho` ( Rho_Error ) - Standard error of rho \n",
    "66. `dHp` ( Diff_Hip_Mag ) - Magnitude difference of components \n",
    "67. `e_dHp` ( dHip_Mag_Error ) - Standard error in dHp \n",
    "68. `Survey` ( Survey_Star ) - Flag indicating a Survey Star \n",
    "69. `Chart` ( ID_Chart ) - Identification Chart \n",
    "70. `Notes` ( Notes ) - Existence of notes \n",
    "71. `HD` ( HD_Id ) - HD number (III 135) \n",
    "72. `BD` ( BD_Id ) - Bonner DM (I 119), (I 122) \n",
    "73. `CoD` ( CoD_Id ) - Cordoba Durchmusterung (DM) (I 114) \n",
    "74. `CPD` ( CPD_Id ) - Cape Photographic DM (I 108) \n",
    "75. `(V-I)red` ( VI_Color_Reduct ) - VI used for reductions \n",
    "76. `SpType` ( Spect_Type ) - Spectral type \n",
    "77. `r_SpType` ( Spect_Type_Source ) - Source of spectral type "
   ]
  },
  {
   "cell_type": "markdown",
   "metadata": {},
   "source": [
    "## 1.3. <a id='toc1_3_'></a>[Importación de librerías y primer vistazo al dataset](#toc0_)"
   ]
  },
  {
   "cell_type": "code",
   "execution_count": null,
   "metadata": {},
   "outputs": [],
   "source": [
    "import pandas as pd\n",
    "import numpy as np\n",
    "import seaborn as sns\n",
    "import plotly_express as px\n",
    "from astropy import units as u \n",
    "from astropy.coordinates import SkyCoord\n",
    "import plotly.figure_factory as ff \n",
    "from utils.funciones import *\n",
    "import pickle\n",
    "import plotly.graph_objects as go\n",
    "\n",
    "pd.set_option('display.max_columns', None)"
   ]
  },
  {
   "cell_type": "code",
   "execution_count": null,
   "metadata": {},
   "outputs": [],
   "source": [
    "df = pd.read_parquet('data/hipparcos.parquet')"
   ]
  },
  {
   "cell_type": "code",
   "execution_count": null,
   "metadata": {},
   "outputs": [],
   "source": [
    "df"
   ]
  },
  {
   "cell_type": "code",
   "execution_count": null,
   "metadata": {},
   "outputs": [],
   "source": [
    "from fast_ml import eda\n",
    "\n",
    "eda.df_info(df)"
   ]
  },
  {
   "cell_type": "markdown",
   "metadata": {},
   "source": [
    "## 1.4. <a id='toc1_4_'></a>[Preprocesamiento](#toc0_)"
   ]
  },
  {
   "attachments": {},
   "cell_type": "markdown",
   "metadata": {},
   "source": [
    "Se hizo en un [cuaderno](Hipparcos/preprocesamiento.ipynb) a parte para no sobrecargar demasiado este."
   ]
  },
  {
   "cell_type": "markdown",
   "metadata": {},
   "source": [
    "# 2. <a id='toc2_'></a>[Estudio astronómico de los datos](#toc0_)"
   ]
  },
  {
   "cell_type": "code",
   "execution_count": null,
   "metadata": {},
   "outputs": [],
   "source": [
    "position = px.scatter(df, x='RAdeg', y='DEdeg', \n",
    "                 title='Posición de las estrellas en el cielo ',\n",
    "                 labels={'RAdeg':'Ascensión recta [Grados]', \n",
    "                         'DEdeg':'Declinación [Grados]'},\n",
    "                 template='plotly_dark')\n",
    "\n",
    "position.update_traces(\n",
    "    mode='markers',\n",
    "    marker=dict(size=0.1) # Reducir el tamaño de los puntos\n",
    ")\n",
    "\n",
    "position.update_layout(\n",
    "    height=400, \n",
    "    width=800 \n",
    ")\n",
    "\n",
    "position.show()\n"
   ]
  },
  {
   "cell_type": "markdown",
   "metadata": {},
   "source": [
    "## 2.1. <a id='toc2_1_'></a>[Distancias en astronomía](#toc0_)\n",
    "Una de las medidas que realizó Hipparcos fue la paralaje estelar, que es la técnica utilizada para determinar la distancia de las estrellas más cercanas a nosotros.\n",
    "\n",
    "La paralaje estelar se basa en el efecto de la perspectiva: cuando observamos un objeto desde dos puntos diferentes, el objeto parece desplazarse ligeramente. En el caso de las estrellas, la Tierra actúa como uno de los puntos de observación, y el otro punto es el centro del sistema solar. Debido al movimiento orbital de la Tierra alrededor del Sol, las estrellas cercanas parecen moverse en el cielo en un patrón anual llamado \"paralaje anual\".\n",
    "\n",
    "La distancia se calcula utilizando la trigonometría y se expresa en parsecs. \n",
    "\n",
    "$$d(\\text{pasecs})=\\frac{1}{p(\\text{arcsec})}$$\n",
    "<center><img src=\"http://hyperphysics.phy-astr.gsu.edu/hbasees/Astro/imgast/stelpar.png\"/></center>\n",
    "\n",
    "\n",
    "La unidad de medida de la paralaje en el dataset de Hipparcos es milisegundos de arco (mas). Para obtener la distancia en parsecs, las distancias obtenidas del catálogo deben multiplicarse por un factor de $10^3$, teniendo entonces $1\\text{ kpc}=10^3\\text{ pc}$\n",
    "\n",
    "$ 1 \\,\\text{pc} = 3.5 \\,\\text{años-luz}$\n"
   ]
  },
  {
   "cell_type": "code",
   "execution_count": null,
   "metadata": {},
   "outputs": [],
   "source": [
    "df['d'] = (1 / df['Plx']) * 1000"
   ]
  },
  {
   "cell_type": "code",
   "execution_count": null,
   "metadata": {},
   "outputs": [],
   "source": [
    "df['d'].describe().T"
   ]
  },
  {
   "attachments": {},
   "cell_type": "markdown",
   "metadata": {},
   "source": [
    "Los datos presentan ciertas peculiaridades físicas:\n",
    "- Vemos que la media es infinito y el máximo también por lo tanto podemos asumir que hay valores 0 en los datos.\n",
    "- El mínimo de la distancia es un número negativo, esto quiere decir que hay valores negativos para algunas paralajes.\n",
    "- Hay valores faltantes en el dataset porque la desviación estándar devuelve NaN.\n",
    "\n",
    "Hagamos una limpieza de estos datos para ver la realidad de los datos."
   ]
  },
  {
   "cell_type": "code",
   "execution_count": null,
   "metadata": {},
   "outputs": [],
   "source": [
    "\n",
    "df_parallax = df[df['Plx'] > 1] # Filtramos todos los valores de paralaje menores a 0.001 arcosegundos \n",
    "df_parallax['d'] = (1 / df_parallax['Plx']) * 1000# Corregimos la columna de las distancias\n",
    "df_parallax['d'].describe().T"
   ]
  },
  {
   "cell_type": "code",
   "execution_count": null,
   "metadata": {},
   "outputs": [],
   "source": [
    "del df # Borro el df original para ahorrar memoria"
   ]
  },
  {
   "cell_type": "code",
   "execution_count": null,
   "metadata": {},
   "outputs": [],
   "source": [
    "dist_hist = go.Figure()\n",
    "dist_hist.add_trace(go.Histogram(x=df_parallax['d'], nbinsx=100))\n",
    "dist_hist.update_layout(title=\"Distribución de la distancia\", xaxis_title=\"Distancia [pc]\", yaxis_title=\"Recuento\", template='plotly_dark', height=400, width=800)\n",
    "dist_hist.show()\n"
   ]
  },
  {
   "attachments": {},
   "cell_type": "markdown",
   "metadata": {},
   "source": [
    "Realmente la precisión en la paralaje de Hipparcos es de $0.001 \\text{ arcsec}$ así que medidas de más de $1 \\text{ kpc}$ deberían desestimarse por los errores de medición."
   ]
  },
  {
   "cell_type": "code",
   "execution_count": null,
   "metadata": {},
   "outputs": [],
   "source": [
    "x1 = np.random.randn(200) - 1\n",
    "x2 = np.random.randn(200)\n",
    "x3 = np.random.randn(200) + 1\n",
    "\n",
    "hist_data = [df_parallax['d']]\n",
    "\n",
    "group_labels = ['KDE']\n",
    "colors = ['#94F3E4']\n",
    "\n",
    "# Create distplot with curve_type set to 'normal'\n",
    "kde_dist = ff.create_distplot(hist_data, group_labels, show_hist=False, colors=colors)\n",
    "\n",
    "# Add title\n",
    "kde_dist.update_layout(title_text='Gráfico de curva y rug', template='plotly_dark',\n",
    "    height=400,\n",
    "    width=800)\n",
    "kde_dist.update_xaxes(title_text='Distancia [pc]')\n",
    "kde_dist.update_yaxes(title_text='Densidad')\n",
    "kde_dist.show()\n"
   ]
  },
  {
   "cell_type": "markdown",
   "metadata": {},
   "source": [
    "Cuanto más lejos están las estrellas objetivo más pequeño es el ángulo de la paralaje y por tanto menos medidas hay y menos precisas. "
   ]
  },
  {
   "cell_type": "code",
   "execution_count": null,
   "metadata": {},
   "outputs": [],
   "source": [
    "dist_err = px.scatter(df_parallax, x=\"Plx\", y=\"e_Plx\", title=\"Distribución de los errores en paralaje\")\n",
    "dist_err.update_xaxes(title=\"Paralaje [mas]\")\n",
    "dist_err.update_yaxes(title=\"Errores en la paralaje [mas]\")\n",
    "dist_err.update_layout(height=400,\n",
    "    width=800, template=\"plotly_dark\",)\n",
    "dist_err.show()"
   ]
  },
  {
   "cell_type": "markdown",
   "metadata": {},
   "source": [
    "### 2.1.1. <a id='toc2_1_1_'></a>[Prueba de coordenadas galácticas](#toc0_)"
   ]
  },
  {
   "cell_type": "code",
   "execution_count": null,
   "metadata": {},
   "outputs": [],
   "source": [
    "# import matplotlib.pyplot as plt\n",
    "# import matplotlib as mpl\n",
    "# from astropy.coordinates import (SkyCoord, Galactic)"
   ]
  },
  {
   "cell_type": "code",
   "execution_count": null,
   "metadata": {},
   "outputs": [],
   "source": [
    "# def coordinates_aitoff_plot(RAdeg, DEdeg, d):\n",
    "#     fig, ax = plt.subplots(figsize=(10, 4), subplot_kw=dict(projection=\"aitoff\"))\n",
    "\n",
    "#     coords = SkyCoord(ra=RAdeg*u.deg, dec=DEdeg*u.deg, frame='icrs')\n",
    "#     coords_galactic = coords.transform_to('galactic')\n",
    "\n",
    "#     sph = coords_galactic.spherical\n",
    "#     cs = ax.scatter(-sph.lon.wrap_at(180*u.deg).radian, sph.lat.radian,\n",
    "#                     c=d, cmap='viridis', alpha=0.5, s=10)\n",
    "\n",
    "# def fmt_func(x, pos):\n",
    "#     lon = -x*u.radian\n",
    "#     separation = coords_galactic.separation(SkyCoord(l=lon, b=0, frame='galactic')).degree\n",
    "#     val = (coords_galactic.icrs.ra.wrap_at(180*u.deg) - separation*u.deg).hour\n",
    "#     return f'${val:.0f}' + r'^{\\circ}$'\n",
    "\n",
    "#     ticker = mpl.ticker.FuncFormatter(fmt_func)\n",
    "#     ax.xaxis.set_major_formatter(ticker)\n",
    "\n",
    "#     ax.grid()\n",
    "#     cb = fig.colorbar(cs)\n",
    "#     cb.set_label('distance [pc]')\n",
    "\n",
    "#     ax.set_xlabel('RA [deg]')\n",
    "#     ax.set_ylabel('Dec [deg]')\n",
    "#     ax.set_title('Galactic Coordinates')\n",
    "\n",
    "#     return fig, ax"
   ]
  },
  {
   "cell_type": "code",
   "execution_count": null,
   "metadata": {},
   "outputs": [],
   "source": [
    "# fig, ax = coordinates_aitoff_plot(df_parallax['RAdeg'], df_parallax['DEdeg'], df_parallax['d'])\n",
    "# ax.set_xlabel('RA [deg]')\n",
    "# ax.set_ylabel('Dec [deg]')"
   ]
  },
  {
   "cell_type": "code",
   "execution_count": null,
   "metadata": {},
   "outputs": [],
   "source": [
    "df_parallax"
   ]
  },
  {
   "cell_type": "code",
   "execution_count": null,
   "metadata": {},
   "outputs": [],
   "source": [
    "# from astropy.coordinates import SkyCoord\n",
    "# prueba = SkyCoord(\n",
    "#     ra=df_parallax['RAdeg']*u.deg,\n",
    "#     dec=df_parallax['DEdeg']*u.deg,\n",
    "#     distance=df_parallax['d']*1000*u.pc,\n",
    "#     frame='icrs')\n",
    "# len(prueba)"
   ]
  },
  {
   "cell_type": "code",
   "execution_count": null,
   "metadata": {},
   "outputs": [],
   "source": [
    "# def coordinates_aitoff_plot(coords):\n",
    "#     fig, ax = plt.subplots(figsize=(10, 4), \n",
    "#                            subplot_kw=dict(projection=\"aitoff\"))\n",
    "    \n",
    "#     sph = coords.spherical\n",
    "#     cs = ax.scatter(-sph.lon.wrap_at(180*u.deg).radian,\n",
    "#                     sph.lat.radian,\n",
    "#                     c=sph.distance.value)\n",
    "\n",
    "#     def fmt_func(x, pos):\n",
    "#         val = coord.Angle(-x*u.radian).wrap_at(360*u.deg).degree\n",
    "#         return f'${val:.0f}' + r'^{\\circ}$'\n",
    "\n",
    "#     ticker = mpl.ticker.FuncFormatter(fmt_func)\n",
    "#     ax.xaxis.set_major_formatter(ticker)\n",
    "\n",
    "#     ax.grid()\n",
    "    \n",
    "#     cb = fig.colorbar(cs)\n",
    "#     cb.set_label('distance [pc]')\n",
    "    \n",
    "#     return fig, ax"
   ]
  },
  {
   "cell_type": "code",
   "execution_count": null,
   "metadata": {},
   "outputs": [],
   "source": [
    "# fig, ax = coordinates_aitoff_plot(prueba)\n",
    "# ax.set_xlabel('RA [deg]')\n",
    "# ax.set_ylabel('Dec [deg]')"
   ]
  },
  {
   "cell_type": "code",
   "execution_count": null,
   "metadata": {},
   "outputs": [],
   "source": [
    "# prueba_gal = prueba.transform_to(Galactic())"
   ]
  },
  {
   "cell_type": "code",
   "execution_count": null,
   "metadata": {},
   "outputs": [],
   "source": [
    "# fig, ax = coordinates_aitoff_plot(prueba_gal);\n",
    "# ax.set_xlabel('Galactic longitude, $l$ [deg]')\n",
    "# ax.set_ylabel('Galactic latitude, $b$ [deg]')"
   ]
  },
  {
   "cell_type": "markdown",
   "metadata": {},
   "source": [
    "## 2.2. <a id='toc2_2_'></a>[Movimientos propios de las estrellas](#toc0_)\n",
    "\n",
    "El movimiento propio de las estrellas se refiere al desplazamiento aparente que tienen las estrellas en el cielo a lo largo del tiempo, como resultado de su movimiento en relación con el sistema solar. Este movimiento puede ser medido a lo largo de dos direcciones: la ascensión recta y la declinación. Es importante tener en cuenta que este movimiento aparente no es causado por un cambio en la posición real de las estrellas en el espacio, sino más bien por el movimiento del observador en la Tierra y el movimiento de las estrellas en su órbita alrededor de la galaxia. La medición del movimiento propio de las estrellas es una herramienta importante para estudiar la estructura y la dinámica de la Vía Láctea."
   ]
  },
  {
   "cell_type": "code",
   "execution_count": null,
   "metadata": {},
   "outputs": [],
   "source": [
    "mov_propio = px.scatter(df_parallax, x=\"pmRA\", y=\"pmDE\", color=\"d\", range_color=[df_parallax[\"d\"].min(), df_parallax[\"d\"].max()],\n",
    "                 color_continuous_scale='viridis', opacity=0.7)\n",
    "\n",
    "mov_propio.update_layout(\n",
    "    xaxis_title=\"Proper motion in Right Ascension\",\n",
    "    yaxis_title=\"Proper motion in Declination\",\n",
    "    title=\"Variation of proper motion\",\n",
    "    xaxis_range=[-180, 180],\n",
    "    yaxis_range=[-180, 180],\n",
    "    coloraxis_colorbar=dict(\n",
    "        title=\"distance [pc]\"\n",
    "    ),    template=\"plotly_dark\",\n",
    "    height=400,\n",
    "    width=800\n",
    ")\n",
    "mov_propio.update_traces(\n",
    "    mode='markers',\n",
    "    marker=dict(size=1)\n",
    ")\n",
    "mov_propio.show()"
   ]
  },
  {
   "cell_type": "markdown",
   "metadata": {},
   "source": [
    "## 2.3. <a id='toc2_3_'></a>[Tipos espectrales de estrellas](#toc0_)\n",
    "\n",
    "Los tipos espectrales de las estrellas son una clasificación de las estrellas según la apariencia de sus espectros de luz. Esta clasificación se basa en la temperatura efectiva de la estrella y en las líneas espectrales que son características de diferentes elementos químicos presentes en la atmósfera estelar.\n",
    "\n",
    "La clasificación más comúnmente utilizada es la clasificación de Harvard, que se basa en una serie de letras que van de la O a la M. Cada letra representa un rango de temperaturas efectivas y una serie de características espectrales. La clasificación se muestra a continuación:\n",
    "\n",
    "- O: Estrellas más calientes con temperaturas efectivas superiores a 30.000 K.\n",
    "- B: Estrellas con temperaturas efectivas de entre 10.000 y 30.000 K.\n",
    "- A: Estrellas con temperaturas efectivas de entre 7.500 y 10.000 K.\n",
    "- F: Estrellas con temperaturas efectivas de entre 6.000 y 7.500 K.\n",
    "- G: Estrellas como nuestro Sol, con temperaturas efectivas de entre 5.200 y 6.000 K.\n",
    "- K: Estrellas con temperaturas efectivas de entre 3.700 y 5.200 K.\n",
    "- M: Estrellas más frías con temperaturas efectivas inferiores a 3.700 K.\n",
    "  \n",
    "Además de la clasificación de Harvard, existen otras clasificaciones, como la clasificación de Yerkes y la clasificación de Morgan-Keenan, que también se basan en las características espectrales de las estrellas."
   ]
  },
  {
   "attachments": {},
   "cell_type": "markdown",
   "metadata": {},
   "source": [
    "Después de las letras O, B, A, F, G, K y M, las estrellas se subclasifican usando números y letras adicionales para indicar características específicas, como la temperatura superficial, la luminosidad y la presencia de líneas espectrales particulares.\n",
    "\n",
    "Para las estrellas de clase O, B, A y F, se utilizan los números del 0 al 9 para indicar la subclase. Por ejemplo, una estrella de clase A5 es más caliente que una estrella de clase A7.\n",
    "\n",
    "Para las estrellas de clase G, K y M, se utilizan las letras \"d\" (para enanas) y \"g\" (para gigantes) para indicar la luminosidad. Por ejemplo, una estrella de clase K3III es una estrella gigante de clase K3.\n",
    "\n",
    "Además, las estrellas de clase M también se subdividen en subclases más detalladas utilizando letras adicionales, como \"sd\" (para subenanas) y \"c\" (para estrellas carbonadas). Por ejemplo, una estrella de clase M5IIIa es una gigante roja con características espectrales inusuales.\n",
    "\n",
    "También se utilizan otras letras adicionales para indicar características especiales, como \"e\" (para líneas espectrales de emisión) y \"p\" (para pulsar)."
   ]
  },
  {
   "attachments": {},
   "cell_type": "markdown",
   "metadata": {},
   "source": [
    "Para poder hacer representaciones gráficas más detalladas, se va a modificar la clasificación de las estrellas para quedarnos solo con la primera letra de la clasificación. De esta manera, se podrá hacer una estadística más detallada de los tipos de estrellas que tenemos."
   ]
  },
  {
   "cell_type": "code",
   "execution_count": null,
   "metadata": {},
   "outputs": [],
   "source": [
    "import re\n",
    "\n",
    "def get_tipo_espectral(s):\n",
    "    if isinstance(s, str):\n",
    "        match = re.search('[OBAFGKM]', s)\n",
    "        if match:\n",
    "            return match.group()\n",
    "    return None\n",
    "\n",
    "\n",
    "df_parallax[\"Tipo_espectral\"] = df_parallax[\"SpType\"].apply(get_tipo_espectral)\n"
   ]
  },
  {
   "cell_type": "code",
   "execution_count": null,
   "metadata": {},
   "outputs": [],
   "source": [
    "# Crea una columna categórica con las categorías en el orden deseado\n",
    "cat_order = pd.Categorical(df_parallax['Tipo_espectral'], \n",
    "                            categories=['O', 'B', 'A', 'F', 'G', 'K', 'M'], \n",
    "                            ordered=True)\n",
    "df_parallax['Tipo_espectral_orden'] = cat_order\n",
    "\n",
    "# Grafica el histograma\n",
    "tipo_espec = px.histogram(df_parallax, x=\"Tipo_espectral_orden\",\n",
    "                   labels={\"Tipo_espectral_orden\": \"Tipo espectral\", \"count\": \"Recuento\"},\n",
    "                   category_orders={\"Tipo_espectral_orden\": ['O', 'B', 'A', 'F', 'G', 'K', 'M']},\n",
    "                   title=\"Número de estrellas por clase espectral del catálogo Hipparcos\", template='plotly_dark')\n",
    "tipo_espec.update_yaxes(title=\"Recuento\")\n",
    "tipo_espec.update_layout(height=400, width=800)\n",
    "\n",
    "# Elimina el dataframe intermedio creado por pd.Categorical\n",
    "del cat_order\n",
    "\n",
    "tipo_espec.show()\n"
   ]
  },
  {
   "attachments": {},
   "cell_type": "markdown",
   "metadata": {},
   "source": [
    "La evolución de una estrella tipo O comienza cuando se forma a partir de una nube de gas y polvo en una región de formación estelar. Durante esta etapa, la estrella está en un estado de contracción, lo que aumenta su temperatura y presión central. Una vez que la temperatura y presión alcanzan niveles suficientemente altos, se enciende la fusión nuclear en el núcleo de la estrella y comienza su vida como una estrella de secuencia principal.\n",
    "\n",
    "Durante su etapa en la secuencia principal, las estrellas tipo O fusionan hidrógeno en helio en su núcleo a través de la reacción de fusión termonuclear. Debido a su alta masa, estas estrellas tienen una tasa de fusión muy alta y, por lo tanto, consumen su combustible de manera mucho más rápida que las estrellas de menor masa. Como resultado, su tiempo en la secuencia principal es relativamente corto, de alrededor de unos pocos millones de años.\n",
    "\n",
    "Una vez que la estrella agota su combustible de hidrógeno en el núcleo, se expande y se enfría, entrando en una nueva fase de su evolución. Las estrellas tipo O se convierten en gigantes rojas y comienzan a fusionar helio en carbono y oxígeno en su núcleo. La fusión de elementos más pesados continúa en capas exteriores de la estrella, mientras que el núcleo se contrae y se calienta.\n",
    "\n",
    "Finalmente, la estrella tipo O llega a su final en una explosión supernova. Durante la explosión, el núcleo colapsa, lo que libera una gran cantidad de energía y da lugar a la formación de una estrella de neutrones o un agujero negro, dependiendo de la masa original de la estrella. La explosión también dispersa elementos pesados en el espacio, que se convierten en los bloques de construcción de nuevas estrellas y planetas."
   ]
  },
  {
   "attachments": {},
   "cell_type": "markdown",
   "metadata": {},
   "source": [
    "Las estrellas tipo M son las estrellas más comunes (NO ENTIENDO POR QUÉ SALEN TAN POCAS EN EL CATÁLOGO) en el universo y tienen una masa menor a la mitad de la masa del Sol. Debido a su baja masa, su evolución es mucho más lenta que las estrellas más masivas como las estrellas tipo O.\n",
    "\n",
    "La evolución de una estrella tipo M comienza de manera similar a las estrellas más masivas, con su formación a partir de una nube de gas y polvo en una región de formación estelar. Sin embargo, debido a su baja masa, el proceso de contracción y fusión nuclear es mucho más lento y lleva más tiempo.\n",
    "\n",
    "Una vez que se enciende la fusión nuclear en el núcleo de la estrella, comienza su vida en la secuencia principal. Las estrellas tipo M tienen una tasa de fusión nuclear muy baja debido a su baja masa y, por lo tanto, consumen su combustible de manera mucho más lenta que las estrellas más masivas. Como resultado, su tiempo en la secuencia principal es mucho más largo que el de las estrellas tipo O y puede durar miles de millones de años.\n",
    "\n",
    "Una vez que la estrella agota su combustible de hidrógeno en el núcleo, se expande y se enfría, convirtiéndose en una gigante roja. Durante esta fase, la estrella comienza a fusionar helio en su núcleo y en capas exteriores de la estrella, lo que produce elementos más pesados como el carbono y el oxígeno.\n",
    "\n",
    "Finalmente, la estrella tipo M llega al final de su vida como una enana blanca. Durante esta etapa, la estrella se ha enfriado significativamente y ya no está fusionando elementos en su núcleo. En lugar de esto, se mantiene caliente por la energía residual de la fusión nuclear pasada. La enana blanca es muy densa, con una masa comparable a la del Sol pero un tamaño similar al de la Tierra.\n",
    "\n",
    "En resumen, la evolución de las estrellas tipo M es mucho más lenta y prolongada que la de las estrellas más masivas, y terminan su vida como enanas blancas frías y densas en lugar de explosiones supernovas."
   ]
  },
  {
   "cell_type": "markdown",
   "metadata": {},
   "source": [
    "### 2.3.1. <a id='toc2_3_1_'></a>[Clases espectrales](#toc0_)"
   ]
  },
  {
   "cell_type": "code",
   "execution_count": null,
   "metadata": {},
   "outputs": [],
   "source": [
    "import re\n",
    "\n",
    "def get_clase_espectral(s):\n",
    "    if isinstance(s, str):\n",
    "        match = re.search('[OBAFGKM]\\d', s)\n",
    "        if match:\n",
    "            return match.group()\n",
    "    return None\n",
    "\n",
    "df_parallax[\"Clase_espectral\"] = df_parallax[\"SpType\"].apply(get_clase_espectral)\n"
   ]
  },
  {
   "cell_type": "code",
   "execution_count": null,
   "metadata": {},
   "outputs": [],
   "source": [
    "df_parallax"
   ]
  },
  {
   "cell_type": "code",
   "execution_count": null,
   "metadata": {},
   "outputs": [],
   "source": [
    "# df_parallax = df_parallax.dropna(subset=['Clase_espectral'])\n",
    "#? no debería haber na porque para eso están imputados con el KNN"
   ]
  },
  {
   "cell_type": "code",
   "execution_count": null,
   "metadata": {},
   "outputs": [],
   "source": [
    "# Crear la categoría ordenada\n",
    "cat_order = pd.Categorical(df_parallax['Clase_espectral'], \n",
    "                            categories=['O0', 'O1', 'O2', 'O3', 'O4', 'O5', 'O6', 'O7', 'O8', 'O9',\n",
    "                                        'B0', 'B1', 'B2', 'B3', 'B4', 'B5', 'B6', 'B7', 'B8', 'B9',\n",
    "                                        'A0', 'A1', 'A2', 'A3', 'A4', 'A5', 'A6', 'A7', 'A8', 'A9',\n",
    "                                        'F0', 'F1', 'F2', 'F3', 'F4', 'F5', 'F6', 'F7', 'F8', 'F9',\n",
    "                                        'G0', 'G1', 'G2', 'G3', 'G4', 'G5', 'G6', 'G7', 'G8', 'G9',\n",
    "                                        'K0', 'K1', 'K2', 'K3', 'K4', 'K5', 'K6', 'K7', 'K8', 'K9',\n",
    "                                        'M0', 'M1', 'M2', 'M3', 'M4', 'M5', 'M6', 'M7', 'M8', 'M9'], \n",
    "                            ordered=True)\n",
    "\n",
    "# Crear una nueva columna con la categoría ordenada\n",
    "df_parallax['Clase_espectral_orden'] = cat_order\n",
    "\n",
    "# Ordenar el dataframe por la columna Clase_espectral_orden y parallax\n",
    "df_parallax = df_parallax.sort_values(by=['Clase_espectral_orden'])\n",
    "\n",
    "# Crear la figura de histograma con la categoría ordenada\n",
    "clase = px.histogram(df_parallax, x='Clase_espectral_orden', nbins=70, \n",
    "                     template='plotly_dark')\n",
    "\n",
    "# Actualizar el diseño de la figura\n",
    "clase.update_layout(\n",
    "    title=\"Histograma de clase para todas las estrellas\",\n",
    "    xaxis_title=\"Clase\",\n",
    "    yaxis_title=\"Cantidad de estrellas\",\n",
    "    bargap=0.1,\n",
    "    height=600,\n",
    "    width=1100\n",
    ")\n",
    "\n",
    "# Eliminar el dataframe intermedio creado por pd.Categorical\n",
    "del cat_order\n",
    "\n",
    "# Mostrar la figura\n",
    "clase.show()"
   ]
  },
  {
   "cell_type": "markdown",
   "metadata": {},
   "source": [
    "## 2.4. <a id='toc2_4_'></a>[La magnitud en astronomía y astrofísica](#toc0_)\n",
    "\n",
    "La magnitud en astronomía es una medida que se utiliza para describir la luminosidad de los objetos celestes. Se trata de una escala logarítmica en la que se asigna un número a cada objeto en función de su brillo aparente en el cielo nocturno. Esta escala se basa en el trabajo del astrónomo griego Hiparco de Nicea, quien clasificó a las estrellas visibles a simple vista en seis categorías en función de su brillo, denominándolas de la primera a la sexta magnitud.\n",
    "\n",
    "A medida que se ha ido avanzando en el estudio de la astronomía, se ha ampliado la escala de magnitud para incluir objetos más brillantes y más débiles que los contemplados por Hiparco. Así, se ha creado la escala de magnitud absoluta, que se utiliza para medir la luminosidad real de los objetos celestes, y la escala de magnitud aparente, que mide la luminosidad de los objetos tal y como los vemos desde la Tierra.\n",
    "\n",
    "A partir de la magnitud, se pueden obtener diversos datos sobre los objetos celestes, como su distancia, tamaño, temperatura y composición. Por ejemplo, al conocer la magnitud aparente y la magnitud absoluta de un objeto, es posible calcular su distancia a partir de la ley de inversa del cuadrado, que relaciona la luminosidad y la distancia de los objetos celestes. Además, la magnitud también puede utilizarse para identificar objetos celestes y clasificarlos según su brillo y características espectrales."
   ]
  },
  {
   "cell_type": "markdown",
   "metadata": {},
   "source": [
    "### 2.4.1. <a id='toc2_4_1_'></a>[Magnitud visual aparente: Estrellas visibles y algunas constelaciones conocidas](#toc0_)\n",
    "\n",
    "La magnitud visual de una estrella es una medida de su brillo aparente tal como se ve desde la Tierra. Fue desarrollada por el astrónomo griego Hiparco de Nicea en el siglo II a.C., y se utiliza hasta el día de hoy para clasificar y comparar el brillo de las estrellas.\n",
    "\n",
    "Hiparco desarrolló una escala de magnitud aparente que clasificaba las estrellas en seis categorías según su brillo, siendo la categoría 1 la más brillante y la 6 la menos brillante. Sin embargo, con la mejora de los instrumentos de observación, se descubrió que la escala original de Hiparco no era lo suficientemente precisa y se hicieron ajustes en ella.\n",
    "\n",
    "Hoy en día, la escala de magnitud aparente se ha refinado y extendido a una escala logarítmica en la que un cambio de una unidad en magnitud representa un cambio de aproximadamente 2,5 veces en brillo. Por lo tanto, una estrella de magnitud 1 es aproximadamente 2,5 veces más brillante que una estrella de magnitud 2, y así sucesivamente.\n",
    "\n",
    "La magnitud visual de las estrellas se utiliza para clasificarlas en diferentes categorías según su brillo aparente. Las estrellas más brillantes tienen una magnitud visual negativa, mientras que las estrellas menos brillantes tienen una magnitud visual positiva.\n",
    "\n",
    "En resumen, la magnitud visual de las estrellas es una medida importante para clasificar y comparar el brillo aparente de las estrellas."
   ]
  },
  {
   "cell_type": "code",
   "execution_count": null,
   "metadata": {},
   "outputs": [],
   "source": [
    "def filter_visible(data, cutoff_magnitude):\n",
    "    visible = data[data['Vmag'] < cutoff_magnitude]\n",
    "    return visible\n",
    " \n",
    "visible = filter_visible(df_parallax, cutoff_magnitude=6.5)\n"
   ]
  },
  {
   "cell_type": "code",
   "execution_count": null,
   "metadata": {},
   "outputs": [],
   "source": [
    "# Select only necessary columns from the dataframe\n",
    "data = visible[['RAdeg', 'DEdeg', 'Vmag', 'd']]\n",
    "\n",
    "# Reduce the precision of the coordinates to save memory\n",
    "data[['RAdeg', 'DEdeg']] = data[['RAdeg', 'DEdeg']].round(2)\n",
    "\n",
    "# Create scatter plot with custom data and defined template\n",
    "osa = px.scatter(data, x='RAdeg', y='DEdeg', color='Vmag', range_x=[220, 140], range_y=[40, 70],\n",
    "                 color_continuous_scale='Greys', opacity=1, custom_data=['d', 'Vmag'],\n",
    "                 labels={'x': 'Ascensión recta [°]', 'y': 'Declinación [°]'},\n",
    "                 title='Constelación de la Osa Mayor', template='plotly_dark')\n",
    "\n",
    "# Add hover template\n",
    "osa.update_traces(hovertemplate='<br>'.join([\n",
    "    'RA: %{x:.2f}',\n",
    "    'Dec: %{y:.2f}',\n",
    "    'Distancia: %{customdata[0]:.2f} pc',\n",
    "    'Magnitud visual: %{customdata[1]:.2f}',\n",
    "]))\n",
    "\n",
    "# Update layout\n",
    "osa.update_layout(title_x=0.5, height=600, width=800)\n",
    "\n",
    "# Show plot\n",
    "osa.show()\n"
   ]
  },
  {
   "cell_type": "code",
   "execution_count": null,
   "metadata": {},
   "outputs": [],
   "source": [
    "\n",
    "# Create scatter plot with custom data\n",
    "orion = px.scatter(visible, x='RAdeg', y='DEdeg', color='Vmag',\n",
    "                 range_x=[120, 40], range_y=[-20, 22], color_continuous_scale='Greys',\n",
    "                 opacity=1, labels={'RAdeg': 'Ascensión recta [°]', 'DEdeg': 'Declinación [°]'},\n",
    "                 title='Constelación de Orión',\n",
    "                 custom_data=['d', 'Vmag'])\n",
    "\n",
    "# Update layout\n",
    "orion.update_layout(template='plotly_dark', title_x=0.5, height=600, width=800)\n",
    "\n",
    "# Add hover template\n",
    "orion.update_traces(hovertemplate='<br>'.join([\n",
    "    'RA: %{x:.2f}',\n",
    "    'Dec: %{y:.2f}',\n",
    "    'Distancia: %{customdata[0]:.2f} pc',\n",
    "    'Magnitud visual: %{customdata[1]:.2f}',\n",
    "]))\n",
    "\n",
    "# Show plot\n",
    "orion.show()\n"
   ]
  },
  {
   "attachments": {},
   "cell_type": "markdown",
   "metadata": {},
   "source": [
    "Veamos ahora la distribución de las magnitudes visuales observadas por Hipparcos."
   ]
  },
  {
   "cell_type": "code",
   "execution_count": null,
   "metadata": {},
   "outputs": [],
   "source": [
    "mag = px.histogram(df_parallax, x=\"Vmag\", nbins=90, histnorm='probability')\n",
    "mag.update_layout(\n",
    "    xaxis_title=\"Magnitud visual aparente\",\n",
    "    yaxis_title=\"Densidad de probabilidad\",\n",
    "    title=\"Distribución de la magnitud visual aparente\",\n",
    "    height=600,\n",
    "    width=1000,\n",
    "    template='plotly_dark'\n",
    ")\n",
    "mag.show()\n"
   ]
  },
  {
   "attachments": {},
   "cell_type": "markdown",
   "metadata": {},
   "source": [
    "Veamos la distribución de la magnitud en función del tipo espectral."
   ]
  },
  {
   "cell_type": "code",
   "execution_count": null,
   "metadata": {},
   "outputs": [],
   "source": [
    "tipo_espectral_order = ['O', 'B', 'A', 'F', 'G', 'K', 'M']\n",
    "\n",
    "# Ordenar el DataFrame por la variable categórica 'Tipo_espectral'\n",
    "df_parallax_sorted = df_parallax.sort_values('Tipo_espectral', key=lambda x: pd.Categorical(x, categories=tipo_espectral_order, ordered=True))\n",
    "\n",
    "# Crear la figura\n",
    "dist_type = px.line(df_parallax_sorted, x=\"Vmag\", color=\"Tipo_espectral\", line_group=\"Tipo_espectral\", hover_data=df.columns, template='plotly_dark', title='Distribución de las magnitudes visuales con base en el tipo espectral de las estrellas')\n",
    "\n",
    "# Actualizar el orden de la leyenda y los títulos de los ejes\n",
    "dist_type.update_layout(\n",
    "    legend=dict(\n",
    "        traceorder=\"normal\",\n",
    "        title=\"Tipo espectral\",\n",
    "        itemsizing='constant'\n",
    "    ),\n",
    "    xaxis=dict(\n",
    "        title=\"Magnitud visual aparente\"\n",
    "    ),\n",
    "    yaxis=dict(\n",
    "        title=\"Recuento\"\n",
    "    ),\n",
    "    height=600,\n",
    "    width=1000\n",
    ")\n",
    "\n",
    "# Mostrar la figura\n",
    "dist_type.show()\n"
   ]
  },
  {
   "cell_type": "code",
   "execution_count": null,
   "metadata": {},
   "outputs": [],
   "source": [
    "# Filtrar valores NaN e infinitos de cada array\n",
    "bt_mag = df_parallax[\"BTmag\"]\n",
    "bt_mag = bt_mag[~np.isnan(bt_mag) & ~np.isinf(bt_mag)]\n",
    "\n",
    "vt_mag = df_parallax[\"VTmag\"]\n",
    "vt_mag = vt_mag[~np.isnan(vt_mag) & ~np.isinf(vt_mag)]\n",
    "\n",
    "hp_mag = df_parallax[\"Hpmag\"]\n",
    "hp_mag = hp_mag[~np.isnan(hp_mag) & ~np.isinf(hp_mag)]\n",
    "\n",
    "hist_data = [bt_mag, vt_mag, hp_mag]\n",
    "\n",
    "group_labels = ['Magnitud BT aparente', 'Magnitud VT aparente', 'Magnitud HP aparente']\n",
    "\n",
    "# Usar el tema \"Plotly Dark\"\n",
    "pio.templates.default = \"plotly_dark\"\n",
    "\n",
    "# Crear el distplot con el tamaño personalizado de los bins\n",
    "magnitudes = ff.create_distplot(hist_data, group_labels, bin_size=0.2)\n",
    "\n",
    "# Actualizar el diseño\n",
    "magnitudes.update_layout(\n",
    "    title='Distribución de magnitudes en el catálogo Hipparcos',\n",
    "    xaxis_title='Magnitud aparente',\n",
    "    yaxis_title='Densidad',\n",
    "    height=600,\n",
    "    width=1000)\n",
    "\n",
    "# Mostrar el gráfico\n",
    "magnitudes.show()"
   ]
  },
  {
   "cell_type": "code",
   "execution_count": null,
   "metadata": {},
   "outputs": [],
   "source": [
    "# Crear el histograma con distribución acumulada\n",
    "cumulative = px.histogram(df_parallax, x=\"Vmag\", nbins=50, cumulative=True, \n",
    "                   title=\"Distribución de la magnitud visual aparente (Acumulativo)\", \n",
    "                   labels={'Vmag': 'Magnitud aparente visual'})\n",
    "\n",
    "# Cambiar el título y los nombres de los ejes a español\n",
    "cumulative.update_layout(xaxis_title='Magnitud aparente V', yaxis_title='Recuento')\n",
    "cumulative.update_traces(hovertemplate=\"Magnitud aparente visual: %{x}\")\n",
    "cumulative.update_layout(\n",
    "    height=600,\n",
    "    width=1000, \n",
    "    template=\"plotly_dark\")\n",
    "\n",
    "# Mostrar el gráfico\n",
    "cumulative.show()"
   ]
  },
  {
   "cell_type": "markdown",
   "metadata": {},
   "source": [
    "La distribución acumulada de estrellas es una forma de visualizar la distribución de estrellas en una muestra particular. En la práctica, los astrónomos estudian una gran cantidad de estrellas y trazan su distribución acumulada, que es una forma de mostrar cuántas estrellas tienen cierto valor de un parámetro particular, como su magnitud visual aparente.\n",
    "\n",
    "La pendiente de la curva está directamente relacionada con la densidad numérica de estrellas, que es la cantidad de estrellas por unidad de volumen. Este es un parámetro importante para la cosmología, ya que está relacionado con la distribución de materia en el universo. Al medir la densidad numérica de estrellas en diferentes regiones del cielo, los astrónomos pueden estudiar la estructura a gran escala del universo y verificar el principio cosmológico, que establece que el universo es homogéneo e isotrópico a gran escala.\n",
    "\n",
    "Al comparar la densidad numérica de estrellas en diferentes regiones del cielo, los astrónomos también pueden estudiar los efectos de los cúmulos de galaxias y otras estructuras a gran escala en la distribución de materia en el universo. Esto puede proporcionar pistas importantes sobre la naturaleza de la materia oscura y la energía oscura, que se cree que son los componentes dominantes del universo pero no son directamente observables.\n",
    "\n",
    "En resumen, la distribución acumulada de estrellas es una herramienta importante para que los astrónomos estudien la estructura a gran escala del universo y verifiquen nuestra comprensión actual de la cosmología."
   ]
  },
  {
   "cell_type": "markdown",
   "metadata": {},
   "source": [
    "## 2.5. <a id='toc2_5_'></a>[Estrellas variables](#toc0_)"
   ]
  },
  {
   "attachments": {},
   "cell_type": "markdown",
   "metadata": {},
   "source": [
    "Las estrellas variables son aquellas cuya luminosidad cambia con el tiempo. Estos cambios pueden ser periódicos o no periódicos y se deben a una variedad de razones, como cambios en la temperatura, la densidad o la composición de la estrella, o la presencia de compañeros estelares cercanos.\n",
    "\n",
    "Las estrellas variables son importantes para los astrónomos porque proporcionan información valiosa sobre la estructura interna de las estrellas y la evolución estelar. Al estudiar cómo cambia la luminosidad de una estrella variable a lo largo del tiempo, los astrónomos pueden inferir su masa, edad, temperatura y otros parámetros importantes.\n",
    "\n",
    "Además, las estrellas variables son importantes para la cosmología porque se utilizan como indicadores de distancia en el universo cercano. Al medir el brillo aparente de una estrella variable y compararlo con su brillo intrínseco conocido, los astrónomos pueden estimar la distancia a la estrella y, por lo tanto, a la galaxia en la que se encuentra.\n",
    "\n",
    "Hay muchos tipos diferentes de estrellas variables, que se clasifican en función de sus características de luz y los mecanismos que impulsan sus cambios de luminosidad. Algunos ejemplos comunes incluyen:\n",
    "\n",
    "- Estrellas pulsantes: estrellas cuya luminosidad cambia debido a la expansión y contracción periódicas de su superficie. Ejemplos incluyen las Cefeidas y las RR Lyrae.\n",
    "- Estrellas eruptivas: estrellas cuya luminosidad aumenta repentinamente debido a la liberación de energía almacenada en su interior. Ejemplos incluyen las novas y las supernovas.\n",
    "- Estrellas eclipsantes: estrellas que parecen disminuir en brillo periódicamente debido al oscurecimiento mutuo de dos estrellas en órbita cercana. Ejemplos incluyen las binarias eclipsantes.\n",
    "- Estrellas variables cataclísmicas: estrellas que experimentan cambios dramáticos en su luminosidad debido a la transferencia de masa de una estrella a otra en un sistema binario cercano. Ejemplos incluyen las novas enanas y las estrellas de tipo Symbiotic.  \n",
    "  \n",
    "El estudio de las estrellas variables es un área importante de la astronomía y ha llevado a importantes descubrimientos y avances en nuestra comprensión del universo."
   ]
  },
  {
   "cell_type": "code",
   "execution_count": null,
   "metadata": {},
   "outputs": [],
   "source": [
    "variables = pd.read_parquet('data/variables.parquet')"
   ]
  },
  {
   "cell_type": "code",
   "execution_count": null,
   "metadata": {},
   "outputs": [],
   "source": [
    "HR = px.histogram(variables, x=\"Period\", nbins=200, log_y=True, template='plotly_dark',\n",
    "                   title=\"Histograma del período estelar en el catálogo Hipparcos\")\n",
    "\n",
    "# Actualizar el diseño\n",
    "HR.update_layout(xaxis_title=\"Período [Días]\", yaxis_title=\"log(N)\",\n",
    "    height=600,\n",
    "    width=1000)\n",
    "\n",
    "# Mostrar el gráfico\n",
    "HR.show()\n"
   ]
  },
  {
   "attachments": {},
   "cell_type": "markdown",
   "metadata": {},
   "source": [
    "Observamos que la mayoría de las estrellas tienen un período de variabilidad inferior a 400 días. A medida que aumenta el período, vemos cada vez menos estrellas. Además, observamos que el histograma tiene un pico en un período de variabilidad de 0, lo que indica que la mayoría de las estrellas en el catálogo son de variabilidad muy rápida.\n",
    "\n",
    "Ahora observamos la distribución de la variabilidad de las estrellas."
   ]
  },
  {
   "cell_type": "code",
   "execution_count": null,
   "metadata": {},
   "outputs": [],
   "source": [
    "var_type_counts = variables['HvarType'].value_counts()\n",
    "var_type_counts = var_type_counts.reset_index().rename(columns={'index':'Variability Type', 'HvarType':'Count'})\n",
    "var_type_counts = var_type_counts.sort_values('Count')\n",
    "\n",
    "var_type = px.bar(var_type_counts, x='Variability Type', y='Count', color='Variability Type', \n",
    "             title='Distribución del tipo de variabilidad estelar en el catálogo Hipparcos', \n",
    "             template='plotly_dark')\n",
    "var_type.update_layout(xaxis_title='Tipo de variabilidad', \n",
    "                       yaxis_title='Recuento',\n",
    "                       height=600,\n",
    "                        width=1000)\n",
    "\n",
    "var_type.show()"
   ]
  },
  {
   "attachments": {},
   "cell_type": "markdown",
   "metadata": {},
   "source": [
    "Los diferentes tipos de variabilidad estelar significan lo siguiente:\n",
    "\n",
    "- C: No se detectó variabilidad (\"constante\")\n",
    "- D: Variabilidad inducida por duplicidad \n",
    "- M: Posiblemente micro-variable, con amplitud < 0.03 mag (las estrellas clasificadas con alta confianza como micro-variable se marcan como U)\n",
    "- P: Variable periódica\n",
    "- R: El índice de color V-I fue revisado durante el análisis de variabilidad\n",
    "- U: Variable no resuelta que no se encuentra en las otras categorías; esta clase también incluye variables irregulares o semi-regulares, y posiblemente variables con amplitud > 0 ~ 0.03 mag\n",
    "  \n",
    "El porcentaje de nulos en la columna del periodo es mucho mayor (97.85% nulos ) que el porcentaje en la columna Tipo de Variabilidad (39.41% de nulos), por tanto habrá muchas más estrellas en la clasificación C que en las demás."
   ]
  },
  {
   "cell_type": "markdown",
   "metadata": {},
   "source": [
    "## 2.6. <a id='toc2_6_'></a>[El diagrama de Hertzsprung-Russell](#toc0_)"
   ]
  },
  {
   "attachments": {},
   "cell_type": "markdown",
   "metadata": {},
   "source": [
    "El diagrama de Hertzsprung-Russell (HR) es uno de los diagramas más importantes en la astronomía estelar. Fue creado por Ejnar Hertzsprung y Henry Norris Russell en la década de 1910 y es una representación gráfica de la luminosidad estelar en función de su temperatura superficial.\n",
    "\n",
    "En el eje vertical del diagrama, se representa la luminosidad estelar en unidades solares $(L/L_\\odot)$, mientras que en el eje horizontal se representa la temperatura superficial estelar en grados Kelvin. De esta forma, las estrellas más luminosas y calientes se sitúan en la parte superior izquierda del diagrama, mientras que las menos luminosas y frías se sitúan en la parte inferior derecha.\n",
    "\n",
    "El diagrama HR permite a los astrónomos clasificar las estrellas según su luminosidad, temperatura y otros parámetros. Por ejemplo, las estrellas de la secuencia principal se sitúan en una banda diagonal que atraviesa el diagrama, conocida como la secuencia principal. También se pueden identificar otras regiones como las gigantes rojas, las supergigantes, las enanas blancas, entre otras.\n",
    "\n",
    "Además, el diagrama HR es una herramienta importante para el estudio de la evolución estelar, ya que permite observar cómo las estrellas cambian a medida que avanzan en su ciclo de vida. De hecho, la posición de una estrella en el diagrama HR puede proporcionar información sobre su edad, masa, estado evolutivo y destino final.\n",
    "\n",
    "En resumen, el diagrama de Hertzsprung-Russell es una herramienta fundamental en la astronomía estelar que permite clasificar, estudiar y entender las propiedades y la evolución de las estrellas."
   ]
  },
  {
   "attachments": {},
   "cell_type": "markdown",
   "metadata": {},
   "source": [
    "### Magnitud absoluta e índice de color"
   ]
  },
  {
   "attachments": {},
   "cell_type": "markdown",
   "metadata": {},
   "source": [
    "En astronomía, la magnitud absoluta y el índice de color son dos medidas importantes para caracterizar la luminosidad y la temperatura de las estrellas.\n",
    "\n",
    "La __magnitud absoluta__ se refiere a la cantidad de luz que emite una estrella y se define como la magnitud aparente que tendría si estuviera a una distancia de 10 parsecs (32,6 años luz) de la Tierra. La magnitud aparente, por otro lado, es la medida de la luminosidad de una estrella tal como se ve desde la Tierra. Es importante destacar que la magnitud absoluta de una estrella es independiente de su distancia a la Tierra y, por lo tanto, es una medida más precisa de su luminosidad que la magnitud aparente.\n",
    "\n",
    "La magnitud absoluta se calcula, con respecto de la magnitud relativa y la distancia, como sigue:\n",
    "$$ M = m - 5 \\times \\log_{10}\\left(d_{pc} \\right) + 5$$\n",
    "\n",
    "\n",
    "Por otro lado, el __índice de color__ es una medida de la temperatura de una estrella. Se calcula comparando la magnitud aparente de la estrella en dos bandas de color diferentes, generalmente la banda B (azul) y la banda V (verde). El índice de color se define como la diferencia de magnitud entre la banda B y la banda V. Si una estrella tiene un índice de color pequeño, significa que emite más luz en la banda V que en la banda B, lo que sugiere que su temperatura es relativamente baja. Por otro lado, si el índice de color es grande, la estrella emite más luz en la banda B que en la banda V, lo que sugiere que su temperatura es relativamente alta. \n",
    "\n",
    "Para calcular la temperatura superficial de las estrellas haremos uso de la fórmula:\n",
    "$$ T = 4600\\,\\text{K} \\left( \\frac{1}{0.92\\left(B-V\\right)+1.7} + \\frac{1}{1.5\\left(B-V\\right)+0.62}\\right)$$\n",
    "\n",
    "\n",
    "En resumen, la magnitud absoluta y el índice de color son dos medidas importantes en astronomía para caracterizar la luminosidad y la temperatura de las estrellas. La magnitud absoluta es una medida de la luminosidad que no depende de la distancia, mientras que el índice de color es una medida de la temperatura que se basa en la comparación de la magnitud en diferentes bandas de color."
   ]
  },
  {
   "cell_type": "code",
   "execution_count": null,
   "metadata": {},
   "outputs": [],
   "source": [
    "# Eliminar los datos vacíos de la columna \"B-V\" directamente en el DataFrame\n",
    "df_parallax.dropna(subset=[\"B-V\"], inplace=True)\n",
    "\n",
    "# Convertir columnas numéricas a tipos de datos más pequeños\n",
    "df_parallax[\"B-V\"] = df_parallax[\"B-V\"].astype(np.float32)\n",
    "df_parallax[\"Vmag\"] = df_parallax[\"Vmag\"].astype(np.float32)\n",
    "df_parallax['d'] = df_parallax['d'].astype(np.float32)\n",
    "\n",
    "# Calcular la temperatura\n",
    "df_parallax[\"T\"] = (4600 * (1 / (0.92 * df_parallax[\"B-V\"] + 1.7) + 1 / (1.5 * df_parallax[\"B-V\"] + 0.62))).astype(np.float32)\n",
    "\n",
    "# Calcular la magnitud absoluta\n",
    "df_parallax[\"M\"] = (df_parallax[\"Vmag\"] - 5 * np.log10(df_parallax['d'])+5).astype(np.float32)\n",
    "\n",
    "# Ordenar el DataFrame por la variable categórica 'Tipo_espectral'\n",
    "tipo_espectral_order = ['O', 'B', 'A', 'F', 'G', 'K', 'M']\n",
    "df_parallax_sorted = df_parallax.sort_values('Tipo_espectral', key=lambda x: pd.Categorical(x, categories=tipo_espectral_order, ordered=True))\n"
   ]
  },
  {
   "cell_type": "code",
   "execution_count": null,
   "metadata": {},
   "outputs": [],
   "source": [
    "# Eliminar los datos vacíos de la columna \"B-V\"\n",
    "df_parallax.dropna(subset=[\"B-V\"], inplace=True)\n",
    "\n",
    "# Ordenar el DataFrame por la variable categórica 'Tipo_espectral'\n",
    "tipo_espectral_order = ['O', 'B', 'A', 'F', 'G', 'K', 'M']\n",
    "df_parallax.sort_values('Tipo_espectral', \n",
    "                         key=lambda x: pd.Categorical(x, \n",
    "                                                      categories=tipo_espectral_order, \n",
    "                                                      ordered=True), \n",
    "                         inplace=True)\n",
    "\n",
    "# Crear el gráfico HR\n",
    "HR = px.scatter(x=df_parallax['B-V'], \n",
    "                y=df_parallax['M'], \n",
    "                color=df_parallax[\"Tipo_espectral\"], \n",
    "                color_continuous_scale=\"RdBu\")\n",
    "\n",
    "# Configurar los ejes y la leyenda\n",
    "HR.update_layout(\n",
    "    xaxis_title=\"Índice B-V\",\n",
    "    yaxis_title=\"Magnitud absoluta\",\n",
    "    yaxis=dict(autorange='reversed'),\n",
    "    height=900,\n",
    "    width=700,\n",
    "    legend=dict(\n",
    "        traceorder=\"normal\",\n",
    "        title=\"Tipo espectral\",\n",
    "        itemsizing='constant'\n",
    "    ),\n",
    "    template='plotly_dark'\n",
    ")\n",
    "\n",
    "# Configurar los marcadores\n",
    "HR.update_traces(\n",
    "    mode='markers',\n",
    "    marker=dict(size=1)\n",
    ")\n",
    "\n",
    "# Mostrar el gráfico\n",
    "HR.show()\n"
   ]
  },
  {
   "cell_type": "code",
   "execution_count": null,
   "metadata": {},
   "outputs": [],
   "source": [
    "# Crear el gráfico HR2\n",
    "HR2 = px.scatter(x=df_parallax['T'], \n",
    "                 y=df_parallax['M'], \n",
    "                 color=df_parallax.Tipo_espectral, \n",
    "                 color_continuous_scale=\"RdBu\",\n",
    "                 template='plotly_dark')\n",
    "\n",
    "# Configurar los ejes y la leyenda\n",
    "HR2.update_layout(\n",
    "    xaxis_title=\"Temperatura (K)\",\n",
    "    yaxis_title=\"Magnitud absoluta\",\n",
    "    yaxis=dict(autorange='reversed'),\n",
    "    xaxis=dict(range=[50000, 0]),\n",
    "    height=600,\n",
    "    width=500,\n",
    "    legend=dict(\n",
    "        traceorder=\"normal\",\n",
    "        title=\"Tipo espectral\",\n",
    "        itemsizing='constant'\n",
    "    )\n",
    ")\n",
    "\n",
    "# Configurar los marcadores\n",
    "HR2.update_traces(\n",
    "    mode='markers',\n",
    "    marker=dict(size=0.5)\n",
    ")\n",
    "# Mostrar el gráfico\n",
    "HR2.show()\n"
   ]
  },
  {
   "cell_type": "code",
   "execution_count": null,
   "metadata": {},
   "outputs": [],
   "source": [
    "# Eliminar los datos vacíos de la columna \"B-V\"\n",
    "df_parallax.dropna(subset=[\"B-V\"], inplace=True)\n",
    "\n",
    "# Calcular la magnitud absoluta\n",
    "df_parallax[\"M_Hip\"] = df_parallax[\"Hpmag\"] - 5 * np.log10(df_parallax['d'])+5 \n",
    "\n",
    "# Calcular la temperatura\n",
    "df_parallax[\"T\"] = (4600 * (1 / (0.92 * df_parallax[\"B-V\"] + 1.7) + 1 / (1.5 * df_parallax[\"B-V\"] + 0.62)))\n",
    "\n",
    "df_parallax_sorted = df_parallax.sort_values('Clase_espectral', key=lambda x: pd.Categorical(df_parallax['Tipo_espectral'], categories=tipo_espectral_order, ordered=True))\n",
    "\n",
    "# Configurar el gráfico HR3\n",
    "HR3 = px.scatter(x=df_parallax_sorted['V-I'], \n",
    "                 y=df_parallax_sorted['M_Hip'], \n",
    "                 color=df_parallax_sorted[\"T\"],\n",
    "                 template='plotly_dark')\n",
    "\n",
    "# Configurar los ejes y la leyenda\n",
    "HR3.update_layout(\n",
    "    xaxis_title=\"V-I [mag]\",\n",
    "    yaxis_title=r\"$M_{Hip}\\,[mag]$\",\n",
    "    yaxis=dict(autorange='reversed'),\n",
    "    height=1000,\n",
    "    width=700,\n",
    "    legend=dict(\n",
    "        traceorder=\"normal\",\n",
    "        title=\"Clase espectral\",\n",
    "        itemsizing='constant'\n",
    "    )\n",
    ")\n",
    "\n",
    "# Configurar los marcadores\n",
    "HR3.update_traces(\n",
    "    mode='markers',\n",
    "    marker=dict(size=1)\n",
    ")\n",
    "\n",
    "# Limitar el rango del eje x\n",
    "HR3.update_xaxes(range=[-1.5, 6])\n",
    "\n",
    "# Mostrar el gráfico\n",
    "HR3.show()\n"
   ]
  },
  {
   "cell_type": "code",
   "execution_count": null,
   "metadata": {},
   "outputs": [],
   "source": [
    "df_parallax"
   ]
  },
  {
   "cell_type": "code",
   "execution_count": null,
   "metadata": {},
   "outputs": [],
   "source": []
  }
 ],
 "metadata": {
  "kernelspec": {
   "display_name": "myenv",
   "language": "python",
   "name": "python3"
  },
  "language_info": {
   "codemirror_mode": {
    "name": "ipython",
    "version": 3
   },
   "file_extension": ".py",
   "mimetype": "text/x-python",
   "name": "python",
   "nbconvert_exporter": "python",
   "pygments_lexer": "ipython3",
   "version": "3.10.10"
  },
  "orig_nbformat": 4
 },
 "nbformat": 4,
 "nbformat_minor": 2
}
